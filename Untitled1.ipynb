{
 "cells": [
  {
   "cell_type": "code",
   "execution_count": 1,
   "metadata": {},
   "outputs": [
    {
     "name": "stdout",
     "output_type": "stream",
     "text": [
      "1\n",
      "2\n",
      "3\n",
      "4\n",
      "5\n",
      "6\n",
      "7\n",
      "8\n",
      "9\n",
      "10\n"
     ]
    }
   ],
   "source": [
    "x = 1\n",
    "\n",
    "while x < 11:\n",
    "    print(x)\n",
    "    x = x + 1"
   ]
  },
  {
   "cell_type": "code",
   "execution_count": 2,
   "metadata": {},
   "outputs": [
    {
     "name": "stdout",
     "output_type": "stream",
     "text": [
      "1\n",
      "2\n",
      "3\n",
      "4\n",
      "5\n",
      "6\n",
      "7\n",
      "8\n",
      "9\n",
      "10\n"
     ]
    }
   ],
   "source": [
    "allten = [1,2,3,4,5,6,7,8,9,10]\n",
    "\n",
    "for x in allten:\n",
    "    print(x)"
   ]
  },
  {
   "cell_type": "code",
   "execution_count": 3,
   "metadata": {},
   "outputs": [
    {
     "name": "stdout",
     "output_type": "stream",
     "text": [
      "1\n",
      "2\n",
      "3\n",
      "4\n",
      "5\n",
      "6\n",
      "7\n",
      "8\n",
      "9\n",
      "10\n"
     ]
    }
   ],
   "source": [
    "for i in range(1,11):\n",
    "    print(i)"
   ]
  },
  {
   "cell_type": "code",
   "execution_count": null,
   "metadata": {},
   "outputs": [],
   "source": [
    "#FUNCTIONS\n",
    "#newvar = function(args, kwargs=kwargs)\n",
    "#newvar: new variable that will be assigned with the results of the function\n",
    "#args: arguments(required, passed in a fixed positional order, no label required)\n",
    "#kwargs: keyword arguments (not required, no fixed position, label required) \n",
    "#kwargs always have an equal sign next to them"
   ]
  },
  {
   "cell_type": "code",
   "execution_count": 4,
   "metadata": {},
   "outputs": [
    {
     "name": "stdout",
     "output_type": "stream",
     "text": [
      "Tessa McDonald\n"
     ]
    }
   ],
   "source": [
    "#example, the value after print is the argument, sep is the kwarg\n",
    "\n",
    "firstname = 'Tessa'\n",
    "lastname = 'McDonald'\n",
    "print(firstname, lastname)"
   ]
  },
  {
   "cell_type": "code",
   "execution_count": 9,
   "metadata": {},
   "outputs": [
    {
     "name": "stdout",
     "output_type": "stream",
     "text": [
      "Tessa,McDonald\n"
     ]
    }
   ],
   "source": [
    "print(firstname, lastname, sep=',')"
   ]
  },
  {
   "cell_type": "code",
   "execution_count": null,
   "metadata": {},
   "outputs": [],
   "source": [
    "#functions are useful for doing math you don't know how to do, onerous repetitive computations\n",
    "#module: a file containing Python definitions and statements\n",
    "#package: a collection of modules\n",
    "#need to use import keyword to access modules"
   ]
  },
  {
   "cell_type": "code",
   "execution_count": 10,
   "metadata": {},
   "outputs": [],
   "source": [
    "import numpy as np"
   ]
  },
  {
   "cell_type": "code",
   "execution_count": 12,
   "metadata": {},
   "outputs": [
    {
     "ename": "SyntaxError",
     "evalue": "invalid syntax (1604989421.py, line 1)",
     "output_type": "error",
     "traceback": [
      "\u001b[0;36m  File \u001b[0;32m\"/tmp/ipykernel_260/1604989421.py\"\u001b[0;36m, line \u001b[0;32m1\u001b[0m\n\u001b[0;31m    help min\u001b[0m\n\u001b[0m         ^\u001b[0m\n\u001b[0;31mSyntaxError\u001b[0m\u001b[0;31m:\u001b[0m invalid syntax\n"
     ]
    }
   ],
   "source": [
    "#np.min requires input data (argument), can have axis, alternative output array, max. value of an output element\n",
    "\n",
    "#np.max requires input data (argument), same kwargs as min\n",
    "\n",
    "#np.mean requires input data, can have data type plus some kwargs as min and max\n",
    "\n",
    "#np.std same kwargs plus delta degrees of freedom\n",
    "\n",
    "#np.shape just need input array (arg)\n",
    "\n",
    "#np.transpose need input array, can have axes\n",
    "\n",
    "#np.sort cam have axis, sorting algorithm, order\n",
    "\n",
    "#np.vstack"
   ]
  },
  {
   "cell_type": "code",
   "execution_count": 14,
   "metadata": {},
   "outputs": [
    {
     "ename": "SyntaxError",
     "evalue": "invalid syntax (2564591677.py, line 1)",
     "output_type": "error",
     "traceback": [
      "\u001b[0;36m  File \u001b[0;32m\"/tmp/ipykernel_260/2564591677.py\"\u001b[0;36m, line \u001b[0;32m1\u001b[0m\n\u001b[0;31m    np.array(1,2,3:4,5,6)\u001b[0m\n\u001b[0m                  ^\u001b[0m\n\u001b[0;31mSyntaxError\u001b[0m\u001b[0;31m:\u001b[0m invalid syntax\n"
     ]
    }
   ],
   "source": []
  },
  {
   "cell_type": "code",
   "execution_count": null,
   "metadata": {},
   "outputs": [],
   "source": [
    "#writing our own functions\n",
    "#def myfunction(args, kwargs=defaultvalue):\n",
    "#    output = (Do something with arguments)\n",
    "#    return output\n",
    "#newvar = myfunction(args)"
   ]
  },
  {
   "cell_type": "code",
   "execution_count": 16,
   "metadata": {},
   "outputs": [
    {
     "name": "stdout",
     "output_type": "stream",
     "text": [
      "12\n"
     ]
    }
   ],
   "source": [
    "#write a function that takes in two different numbers as arguments, multiplies them by each other and the number 2\n",
    "#and then returns the product\n",
    "\n",
    "def myfunction(a, b):\n",
    "    output = print(a*b*2)\n",
    "    return output\n",
    "\n",
    "x = 2\n",
    "y = 3\n",
    "newvar = myfunction(x, y)"
   ]
  },
  {
   "cell_type": "code",
   "execution_count": null,
   "metadata": {},
   "outputs": [],
   "source": [
    "z = float(input(\"Number: \"))"
   ]
  },
  {
   "cell_type": "code",
   "execution_count": null,
   "metadata": {},
   "outputs": [],
   "source": []
  }
 ],
 "metadata": {
  "kernelspec": {
   "display_name": "Python 3 (ipykernel)",
   "language": "python",
   "name": "python3"
  },
  "language_info": {
   "codemirror_mode": {
    "name": "ipython",
    "version": 3
   },
   "file_extension": ".py",
   "mimetype": "text/x-python",
   "name": "python",
   "nbconvert_exporter": "python",
   "pygments_lexer": "ipython3",
   "version": "3.8.10"
  }
 },
 "nbformat": 4,
 "nbformat_minor": 4
}
