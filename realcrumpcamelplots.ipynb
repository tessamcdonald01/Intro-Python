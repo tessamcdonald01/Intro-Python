{
 "cells": [
  {
   "cell_type": "code",
   "execution_count": null,
   "metadata": {},
   "outputs": [],
   "source": [
    "#making camel plots of crump baffin bay data\n",
    "#data: doi:10.18739/A2ST7DX28\n",
    "#article: https://doi.org/10.1016/j.quascirev.2021.107179'\n",
    "\n",
    "import pandas as pd\n",
    "import numpy as np\n",
    "import matplotlib.pyplot as plt\n",
    "import pandas as pd\n",
    "from scipy.stats import norm\n",
    "\n",
    "data = pd.read_csv('CrumpEtAl2020_10BeData.csv')"
   ]
  },
  {
   "cell_type": "code",
   "execution_count": null,
   "metadata": {},
   "outputs": [],
   "source": [
    "#cleaning up my data so they're usable\n",
    "ages = data[['Beage']]\n",
    "ages = ages.dropna()\n",
    "errors = data[['Beuncertainty']]\n",
    "errors = errors.dropna()\n",
    "sulungages = ages[0:11]\n",
    "sulungerrors = errors[0:11]\n",
    "sulung = pd.concat([sulungages, sulungerrors], axis = 1)\n",
    "sulung_pd = pd.DataFrame(sulung)"
   ]
  },
  {
   "cell_type": "code",
   "execution_count": null,
   "metadata": {},
   "outputs": [],
   "source": [
    "numsamples = len(sulung_pd)\n",
    "\n",
    "\n",
    "minage = sulung_pd['Beage'].min()\n",
    "minin = sulung_pd['Beage'].idxmin()\n",
    "minAge = sulungages.Beage.min() - (4 * (sulungerrors.iat[minin, sulungerrors.columns.get_loc('Beuncertainty')]))\n",
    "maxage = sulung_pd['Beage'].max()\n",
    "maxin = sulung_pd['Beage'].idxmax()\n",
    "maxAge = sulungages.Beage.max() - (4 * (sulungerrors.iat[maxin, sulungerrors.columns.get_loc('Beuncertainty')]))\n",
    "                                   \n",
    "agerange = maxAge - minAge\n",
    "\n",
    "x = np.arange(minAge, maxAge, agerange / 1000)\n",
    "totalPdf = np.zeros_like(x)\n",
    "\n",
    "\n",
    "fig, ax = plt.subplots()\n",
    "for a in range(numsamples):\n",
    "    mu = sulungages.Beage[a]\n",
    "    sigma = sulungerrors.Beuncertainty[a]\n",
    "    xn = (x - mu) / sigma\n",
    "    y = np.exp(-0.5 * xn**2) / (np.sqrt(2 * np.pi) * sigma)\n",
    "    exec(f'pdf{a + 1} = y')\n",
    "    exec(f'totalPdf = totalPdf + pdf{a + 1}')\n",
    "\n",
    "    #Plotting individual curves\n",
    "    exec(f'ax.plot(x, pdf{a + 1} / numsamples, \"r\")')\n",
    "\n",
    "#Plotting total curve\n",
    "ax.plot(x, totalPdf / numsamples, 'k')\n",
    "\n",
    "plt.xlabel('Exposure Age')\n",
    "plt.ylabel('Relative Probability')\n",
    "plt.title('Sulung')\n",
    "plt.show()"
   ]
  }
 ],
 "metadata": {
  "kernelspec": {
   "display_name": "Python 3 (ipykernel)",
   "language": "python",
   "name": "python3"
  },
  "language_info": {
   "codemirror_mode": {
    "name": "ipython",
    "version": 3
   },
   "file_extension": ".py",
   "mimetype": "text/x-python",
   "name": "python",
   "nbconvert_exporter": "python",
   "pygments_lexer": "ipython3",
   "version": "3.8.15"
  }
 },
 "nbformat": 4,
 "nbformat_minor": 4
}
