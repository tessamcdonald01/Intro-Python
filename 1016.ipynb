{
 "cells": [
  {
   "cell_type": "code",
   "execution_count": 2,
   "metadata": {},
   "outputs": [],
   "source": [
    "import pandas as pd"
   ]
  },
  {
   "cell_type": "code",
   "execution_count": 7,
   "metadata": {},
   "outputs": [],
   "source": [
    "df = pd.read_csv('Intro-Python/Table1_SurfaceAgesAndErosion_Balter_Kennedy2021_JakobshavnErosion.csv')"
   ]
  },
  {
   "cell_type": "code",
   "execution_count": 9,
   "metadata": {},
   "outputs": [
    {
     "data": {
      "text/html": [
       "<div>\n",
       "<style scoped>\n",
       "    .dataframe tbody tr th:only-of-type {\n",
       "        vertical-align: middle;\n",
       "    }\n",
       "\n",
       "    .dataframe tbody tr th {\n",
       "        vertical-align: top;\n",
       "    }\n",
       "\n",
       "    .dataframe thead th {\n",
       "        text-align: right;\n",
       "    }\n",
       "</style>\n",
       "<table border=\"1\" class=\"dataframe\">\n",
       "  <thead>\n",
       "    <tr style=\"text-align: right;\">\n",
       "      <th></th>\n",
       "      <th>Table 1 - Exposure ages and erosion rates from surficial bedrock samples at Jakobshavn Isbræ.</th>\n",
       "      <th>Unnamed: 1</th>\n",
       "      <th>Unnamed: 2</th>\n",
       "      <th>Unnamed: 3</th>\n",
       "      <th>Unnamed: 4</th>\n",
       "      <th>Unnamed: 5</th>\n",
       "      <th>Unnamed: 6</th>\n",
       "      <th>Unnamed: 7</th>\n",
       "      <th>Unnamed: 8</th>\n",
       "      <th>Unnamed: 9</th>\n",
       "      <th>Unnamed: 10</th>\n",
       "      <th>Unnamed: 11</th>\n",
       "      <th>Unnamed: 12</th>\n",
       "      <th>Unnamed: 13</th>\n",
       "      <th>Unnamed: 14</th>\n",
       "      <th>Unnamed: 15</th>\n",
       "      <th>Unnamed: 16</th>\n",
       "    </tr>\n",
       "  </thead>\n",
       "  <tbody>\n",
       "    <tr>\n",
       "      <th>0</th>\n",
       "      <td>Number in Figure 1</td>\n",
       "      <td>Sample ID</td>\n",
       "      <td>Group*</td>\n",
       "      <td>Location</td>\n",
       "      <td>Historical Cover Duration (years)</td>\n",
       "      <td>Uncertainty in Historical Cover Duration (years)</td>\n",
       "      <td>Lm Age (years ± SD)</td>\n",
       "      <td>Age Uncertainty (Lm years ± SD)</td>\n",
       "      <td>Rock Abrasion Depth (cm)</td>\n",
       "      <td>Uncertainty in Rock Abrasion Depth (cm)</td>\n",
       "      <td>Rock abrasion rate (mm yr-1)</td>\n",
       "      <td>Rock abrasion rate Uncertainty (mm yr-1)</td>\n",
       "      <td>Sediment Erosion Depth (cm)1</td>\n",
       "      <td>Uncertainty in Sediment Erosion Depth (cm)1</td>\n",
       "      <td>Sediment Erosion Depth + Bedrock Abrasion (cm)2</td>\n",
       "      <td>Rock Erosion Depth + Bedrock Abrasion (cm)3</td>\n",
       "      <td>Reference</td>\n",
       "    </tr>\n",
       "    <tr>\n",
       "      <th>1</th>\n",
       "      <td>1</td>\n",
       "      <td>JAKN08-56</td>\n",
       "      <td>Outboard</td>\n",
       "      <td>North</td>\n",
       "      <td>-</td>\n",
       "      <td>-</td>\n",
       "      <td>7480</td>\n",
       "      <td>180</td>\n",
       "      <td>-</td>\n",
       "      <td>-</td>\n",
       "      <td>-</td>\n",
       "      <td>-</td>\n",
       "      <td>-</td>\n",
       "      <td>-</td>\n",
       "      <td>-</td>\n",
       "      <td>-</td>\n",
       "      <td>Young et al., 2011</td>\n",
       "    </tr>\n",
       "    <tr>\n",
       "      <th>2</th>\n",
       "      <td>2</td>\n",
       "      <td>JAKN08-44</td>\n",
       "      <td>Outboard</td>\n",
       "      <td>North</td>\n",
       "      <td>-</td>\n",
       "      <td>-</td>\n",
       "      <td>7350</td>\n",
       "      <td>280</td>\n",
       "      <td>-</td>\n",
       "      <td>-</td>\n",
       "      <td>-</td>\n",
       "      <td>-</td>\n",
       "      <td>-</td>\n",
       "      <td>-</td>\n",
       "      <td>-</td>\n",
       "      <td>-</td>\n",
       "      <td>Young et al., 2011</td>\n",
       "    </tr>\n",
       "    <tr>\n",
       "      <th>3</th>\n",
       "      <td>3</td>\n",
       "      <td>JAKN08-28</td>\n",
       "      <td>Outboard</td>\n",
       "      <td>North</td>\n",
       "      <td>-</td>\n",
       "      <td>-</td>\n",
       "      <td>7410</td>\n",
       "      <td>360</td>\n",
       "      <td>-</td>\n",
       "      <td>-</td>\n",
       "      <td>-</td>\n",
       "      <td>-</td>\n",
       "      <td>-</td>\n",
       "      <td>-</td>\n",
       "      <td>-</td>\n",
       "      <td>-</td>\n",
       "      <td>Young et al., 2011</td>\n",
       "    </tr>\n",
       "    <tr>\n",
       "      <th>4</th>\n",
       "      <td>4</td>\n",
       "      <td>JAKN08-39</td>\n",
       "      <td>Outboard</td>\n",
       "      <td>North</td>\n",
       "      <td>-</td>\n",
       "      <td>-</td>\n",
       "      <td>7430</td>\n",
       "      <td>240</td>\n",
       "      <td>-</td>\n",
       "      <td>-</td>\n",
       "      <td>-</td>\n",
       "      <td>-</td>\n",
       "      <td>-</td>\n",
       "      <td>-</td>\n",
       "      <td>-</td>\n",
       "      <td>-</td>\n",
       "      <td>Young et al., 2011</td>\n",
       "    </tr>\n",
       "  </tbody>\n",
       "</table>\n",
       "</div>"
      ],
      "text/plain": [
       "  Table 1 - Exposure ages and erosion rates from surficial bedrock samples at Jakobshavn Isbræ.  \\\n",
       "0                                 Number in Figure 1                                              \n",
       "1                                                  1                                              \n",
       "2                                                  2                                              \n",
       "3                                                  3                                              \n",
       "4                                                  4                                              \n",
       "\n",
       "  Unnamed: 1 Unnamed: 2 Unnamed: 3                         Unnamed: 4  \\\n",
       "0  Sample ID     Group*   Location  Historical Cover Duration (years)   \n",
       "1  JAKN08-56   Outboard      North                                  -   \n",
       "2  JAKN08-44   Outboard      North                                  -   \n",
       "3  JAKN08-28   Outboard      North                                  -   \n",
       "4  JAKN08-39   Outboard      North                                  -   \n",
       "\n",
       "                                         Unnamed: 5           Unnamed: 6  \\\n",
       "0  Uncertainty in Historical Cover Duration (years)  Lm Age (years ± SD)   \n",
       "1                                                 -                 7480   \n",
       "2                                                 -                 7350   \n",
       "3                                                 -                 7410   \n",
       "4                                                 -                 7430   \n",
       "\n",
       "                        Unnamed: 7                Unnamed: 8  \\\n",
       "0  Age Uncertainty (Lm years ± SD)  Rock Abrasion Depth (cm)   \n",
       "1                              180                         -   \n",
       "2                              280                         -   \n",
       "3                              360                         -   \n",
       "4                              240                         -   \n",
       "\n",
       "                                Unnamed: 9                   Unnamed: 10  \\\n",
       "0  Uncertainty in Rock Abrasion Depth (cm)  Rock abrasion rate (mm yr-1)   \n",
       "1                                        -                             -   \n",
       "2                                        -                             -   \n",
       "3                                        -                             -   \n",
       "4                                        -                             -   \n",
       "\n",
       "                                Unnamed: 11                   Unnamed: 12  \\\n",
       "0  Rock abrasion rate Uncertainty (mm yr-1)  Sediment Erosion Depth (cm)1   \n",
       "1                                         -                             -   \n",
       "2                                         -                             -   \n",
       "3                                         -                             -   \n",
       "4                                         -                             -   \n",
       "\n",
       "                                   Unnamed: 13  \\\n",
       "0  Uncertainty in Sediment Erosion Depth (cm)1   \n",
       "1                                            -   \n",
       "2                                            -   \n",
       "3                                            -   \n",
       "4                                            -   \n",
       "\n",
       "                                       Unnamed: 14  \\\n",
       "0  Sediment Erosion Depth + Bedrock Abrasion (cm)2   \n",
       "1                                                -   \n",
       "2                                                -   \n",
       "3                                                -   \n",
       "4                                                -   \n",
       "\n",
       "                                   Unnamed: 15         Unnamed: 16  \n",
       "0  Rock Erosion Depth + Bedrock Abrasion (cm)3           Reference  \n",
       "1                                            -  Young et al., 2011  \n",
       "2                                            -  Young et al., 2011  \n",
       "3                                            -  Young et al., 2011  \n",
       "4                                            -  Young et al., 2011  "
      ]
     },
     "execution_count": 9,
     "metadata": {},
     "output_type": "execute_result"
    }
   ],
   "source": [
    "df.head()"
   ]
  },
  {
   "cell_type": "code",
   "execution_count": 10,
   "metadata": {},
   "outputs": [
    {
     "data": {
      "text/plain": [
       "Table 1 - Exposure ages and erosion rates from surficial bedrock samples at Jakobshavn Isbræ.    object\n",
       "Unnamed: 1                                                                                       object\n",
       "Unnamed: 2                                                                                       object\n",
       "Unnamed: 3                                                                                       object\n",
       "Unnamed: 4                                                                                       object\n",
       "Unnamed: 5                                                                                       object\n",
       "Unnamed: 6                                                                                       object\n",
       "Unnamed: 7                                                                                       object\n",
       "Unnamed: 8                                                                                       object\n",
       "Unnamed: 9                                                                                       object\n",
       "Unnamed: 10                                                                                      object\n",
       "Unnamed: 11                                                                                      object\n",
       "Unnamed: 12                                                                                      object\n",
       "Unnamed: 13                                                                                      object\n",
       "Unnamed: 14                                                                                      object\n",
       "Unnamed: 15                                                                                      object\n",
       "Unnamed: 16                                                                                      object\n",
       "dtype: object"
      ]
     },
     "execution_count": 10,
     "metadata": {},
     "output_type": "execute_result"
    }
   ],
   "source": [
    "df.dtypes"
   ]
  },
  {
   "cell_type": "code",
   "execution_count": 11,
   "metadata": {},
   "outputs": [],
   "source": [
    "import matplotlib.pyplot as plt"
   ]
  },
  {
   "cell_type": "code",
   "execution_count": 13,
   "metadata": {},
   "outputs": [
    {
     "data": {
      "text/plain": [
       "<Figure size 640x480 with 0 Axes>"
      ]
     },
     "metadata": {},
     "output_type": "display_data"
    }
   ],
   "source": []
  },
  {
   "cell_type": "code",
   "execution_count": 27,
   "metadata": {},
   "outputs": [
    {
     "ename": "SyntaxError",
     "evalue": "unexpected EOF while parsing (2806351028.py, line 4)",
     "output_type": "error",
     "traceback": [
      "\u001b[0;36m  File \u001b[0;32m\"/tmp/ipykernel_180/2806351028.py\"\u001b[0;36m, line \u001b[0;32m4\u001b[0m\n\u001b[0;31m    inplace = True\u001b[0m\n\u001b[0m                  ^\u001b[0m\n\u001b[0;31mSyntaxError\u001b[0m\u001b[0;31m:\u001b[0m unexpected EOF while parsing\n"
     ]
    }
   ],
   "source": [
    "df.drop(\n",
    "    labels = [0],\n",
    "    axis = 0,\n",
    "    inplace = True"
   ]
  },
  {
   "cell_type": "code",
   "execution_count": 17,
   "metadata": {},
   "outputs": [],
   "source": [
    "df = pd.read_csv('Intro-Python/d18o_datafile.csv')"
   ]
  },
  {
   "cell_type": "code",
   "execution_count": 18,
   "metadata": {},
   "outputs": [],
   "source": [
    "df = df. rename(columns={\"DAY\": \"days\", df.columns[1]: \"d18o\"}) #df.columns[1] is calling the index (the second column), not referring to the name of the column (cause the name is a string)"
   ]
  },
  {
   "cell_type": "code",
   "execution_count": 19,
   "metadata": {},
   "outputs": [],
   "source": [
    "day_col = df['days'] "
   ]
  },
  {
   "cell_type": "code",
   "execution_count": 20,
   "metadata": {},
   "outputs": [
    {
     "data": {
      "text/html": [
       "<div>\n",
       "<style scoped>\n",
       "    .dataframe tbody tr th:only-of-type {\n",
       "        vertical-align: middle;\n",
       "    }\n",
       "\n",
       "    .dataframe tbody tr th {\n",
       "        vertical-align: top;\n",
       "    }\n",
       "\n",
       "    .dataframe thead th {\n",
       "        text-align: right;\n",
       "    }\n",
       "</style>\n",
       "<table border=\"1\" class=\"dataframe\">\n",
       "  <thead>\n",
       "    <tr style=\"text-align: right;\">\n",
       "      <th></th>\n",
       "      <th>days</th>\n",
       "      <th>d18o</th>\n",
       "    </tr>\n",
       "  </thead>\n",
       "  <tbody>\n",
       "    <tr>\n",
       "      <th>0</th>\n",
       "      <td>1</td>\n",
       "      <td>-14.05</td>\n",
       "    </tr>\n",
       "    <tr>\n",
       "      <th>1</th>\n",
       "      <td>2</td>\n",
       "      <td>-14.05</td>\n",
       "    </tr>\n",
       "    <tr>\n",
       "      <th>2</th>\n",
       "      <td>3</td>\n",
       "      <td>-14.05</td>\n",
       "    </tr>\n",
       "    <tr>\n",
       "      <th>3</th>\n",
       "      <td>4</td>\n",
       "      <td>-14.05</td>\n",
       "    </tr>\n",
       "    <tr>\n",
       "      <th>4</th>\n",
       "      <td>5</td>\n",
       "      <td>-14.05</td>\n",
       "    </tr>\n",
       "    <tr>\n",
       "      <th>...</th>\n",
       "      <td>...</td>\n",
       "      <td>...</td>\n",
       "    </tr>\n",
       "    <tr>\n",
       "      <th>361</th>\n",
       "      <td>362</td>\n",
       "      <td>-13.84</td>\n",
       "    </tr>\n",
       "    <tr>\n",
       "      <th>362</th>\n",
       "      <td>363</td>\n",
       "      <td>-13.84</td>\n",
       "    </tr>\n",
       "    <tr>\n",
       "      <th>363</th>\n",
       "      <td>364</td>\n",
       "      <td>-13.84</td>\n",
       "    </tr>\n",
       "    <tr>\n",
       "      <th>364</th>\n",
       "      <td>365</td>\n",
       "      <td>-13.84</td>\n",
       "    </tr>\n",
       "    <tr>\n",
       "      <th>365</th>\n",
       "      <td>366</td>\n",
       "      <td>-13.84</td>\n",
       "    </tr>\n",
       "  </tbody>\n",
       "</table>\n",
       "<p>366 rows × 2 columns</p>\n",
       "</div>"
      ],
      "text/plain": [
       "     days   d18o\n",
       "0       1 -14.05\n",
       "1       2 -14.05\n",
       "2       3 -14.05\n",
       "3       4 -14.05\n",
       "4       5 -14.05\n",
       "..    ...    ...\n",
       "361   362 -13.84\n",
       "362   363 -13.84\n",
       "363   364 -13.84\n",
       "364   365 -13.84\n",
       "365   366 -13.84\n",
       "\n",
       "[366 rows x 2 columns]"
      ]
     },
     "execution_count": 20,
     "metadata": {},
     "output_type": "execute_result"
    }
   ],
   "source": [
    "df[['days', 'd18o']]"
   ]
  },
  {
   "cell_type": "code",
   "execution_count": 21,
   "metadata": {},
   "outputs": [
    {
     "data": {
      "text/html": [
       "<div>\n",
       "<style scoped>\n",
       "    .dataframe tbody tr th:only-of-type {\n",
       "        vertical-align: middle;\n",
       "    }\n",
       "\n",
       "    .dataframe tbody tr th {\n",
       "        vertical-align: top;\n",
       "    }\n",
       "\n",
       "    .dataframe thead th {\n",
       "        text-align: right;\n",
       "    }\n",
       "</style>\n",
       "<table border=\"1\" class=\"dataframe\">\n",
       "  <thead>\n",
       "    <tr style=\"text-align: right;\">\n",
       "      <th></th>\n",
       "      <th>days</th>\n",
       "      <th>d18o</th>\n",
       "    </tr>\n",
       "  </thead>\n",
       "  <tbody>\n",
       "    <tr>\n",
       "      <th>217</th>\n",
       "      <td>218</td>\n",
       "      <td>-13.84</td>\n",
       "    </tr>\n",
       "    <tr>\n",
       "      <th>218</th>\n",
       "      <td>219</td>\n",
       "      <td>-13.92</td>\n",
       "    </tr>\n",
       "    <tr>\n",
       "      <th>219</th>\n",
       "      <td>220</td>\n",
       "      <td>-13.90</td>\n",
       "    </tr>\n",
       "    <tr>\n",
       "      <th>220</th>\n",
       "      <td>221</td>\n",
       "      <td>-13.81</td>\n",
       "    </tr>\n",
       "    <tr>\n",
       "      <th>221</th>\n",
       "      <td>222</td>\n",
       "      <td>-13.71</td>\n",
       "    </tr>\n",
       "    <tr>\n",
       "      <th>...</th>\n",
       "      <td>...</td>\n",
       "      <td>...</td>\n",
       "    </tr>\n",
       "    <tr>\n",
       "      <th>361</th>\n",
       "      <td>362</td>\n",
       "      <td>-13.84</td>\n",
       "    </tr>\n",
       "    <tr>\n",
       "      <th>362</th>\n",
       "      <td>363</td>\n",
       "      <td>-13.84</td>\n",
       "    </tr>\n",
       "    <tr>\n",
       "      <th>363</th>\n",
       "      <td>364</td>\n",
       "      <td>-13.84</td>\n",
       "    </tr>\n",
       "    <tr>\n",
       "      <th>364</th>\n",
       "      <td>365</td>\n",
       "      <td>-13.84</td>\n",
       "    </tr>\n",
       "    <tr>\n",
       "      <th>365</th>\n",
       "      <td>366</td>\n",
       "      <td>-13.84</td>\n",
       "    </tr>\n",
       "  </tbody>\n",
       "</table>\n",
       "<p>138 rows × 2 columns</p>\n",
       "</div>"
      ],
      "text/plain": [
       "     days   d18o\n",
       "217   218 -13.84\n",
       "218   219 -13.92\n",
       "219   220 -13.90\n",
       "220   221 -13.81\n",
       "221   222 -13.71\n",
       "..    ...    ...\n",
       "361   362 -13.84\n",
       "362   363 -13.84\n",
       "363   364 -13.84\n",
       "364   365 -13.84\n",
       "365   366 -13.84\n",
       "\n",
       "[138 rows x 2 columns]"
      ]
     },
     "execution_count": 21,
     "metadata": {},
     "output_type": "execute_result"
    }
   ],
   "source": [
    "above_neg14 = df[df[\"d18o\"] > -14]\n",
    "\n",
    "above_neg14"
   ]
  },
  {
   "cell_type": "code",
   "execution_count": 22,
   "metadata": {},
   "outputs": [],
   "source": [
    "df2 = df.set_index('days')"
   ]
  },
  {
   "cell_type": "code",
   "execution_count": 23,
   "metadata": {},
   "outputs": [
    {
     "data": {
      "text/plain": [
       "<Figure size 640x480 with 0 Axes>"
      ]
     },
     "metadata": {},
     "output_type": "display_data"
    }
   ],
   "source": [
    "fig = plt.figure()"
   ]
  },
  {
   "cell_type": "code",
   "execution_count": 26,
   "metadata": {},
   "outputs": [
    {
     "data": {
      "image/png": "[encoded data removed]",
      "text/plain": [
       "<Figure size 640x480 with 4 Axes>"
      ]
     },
     "metadata": {},
     "output_type": "display_data"
    }
   ],
   "source": [
    "fig, axs = plt.subplots(2,2)\n",
    "fig.subplots_adjust(hspace = .5, wspace = .5) #adjusts the spacing between subplots"
   ]
  },
  {
   "cell_type": "code",
   "execution_count": 28,
   "metadata": {},
   "outputs": [
    {
     "data": {
      "text/plain": [
       "Text(0, 0.5, 'd18o')"
      ]
     },
     "execution_count": 28,
     "metadata": {},
     "output_type": "execute_result"
    },
    {
     "data": {
      "image/png": "[encoded data removed]",
      "text/plain": [
       "<Figure size 640x480 with 2 Axes>"
      ]
     },
     "metadata": {},
     "output_type": "display_data"
    }
   ],
   "source": [
    "fig, (ax1, ax2) = plt.subplots(2)\n",
    "\n",
    "ax1.plot(df.days, df.d18o) #plot functions plots as a line, can use scatter to get points\n",
    "ax1.set_title('delta 18 O over time')\n",
    "ax1.set_xlabel('Days')\n",
    "ax1.set_ylabel('d18o')\n"
   ]
  },
  {
   "cell_type": "code",
   "execution_count": 30,
   "metadata": {},
   "outputs": [
    {
     "ename": "SyntaxError",
     "evalue": "invalid syntax (332271460.py, line 4)",
     "output_type": "error",
     "traceback": [
      "\u001b[0;36m  File \u001b[0;32m\"/tmp/ipykernel_180/332271460.py\"\u001b[0;36m, line \u001b[0;32m4\u001b[0m\n\u001b[0;31m    ax.set_title('delta 18 O over time')\u001b[0m\n\u001b[0m    ^\u001b[0m\n\u001b[0;31mSyntaxError\u001b[0m\u001b[0;31m:\u001b[0m invalid syntax\n"
     ]
    }
   ],
   "source": [
    "fig, ax = plt.subplots()\n",
    "ax.plot(df.days, df.d18o, label = 'All Data') #plot functions plots as a line, can use scatter to get points\n",
    "ax.scatter(above_neg14.days, above_neg14.d18o, color  ='purple', label = 'Selected data', zorder = 1\n",
    "ax.set_title('delta 18 O over time')\n",
    "ax.set_xlabel('Days')\n",
    "ax.set_ylabel('d18o')\n",
    "\n",
    "           \n",
    "ax.legend"
   ]
  },
  {
   "cell_type": "code",
   "execution_count": 38,
   "metadata": {},
   "outputs": [
    {
     "ename": "AttributeError",
     "evalue": "'Figure' object has no attribute 'subtitle'",
     "output_type": "error",
     "traceback": [
      "\u001b[0;31m---------------------------------------------------------------------------\u001b[0m",
      "\u001b[0;31mAttributeError\u001b[0m                            Traceback (most recent call last)",
      "\u001b[0;32m/tmp/ipykernel_180/1654116273.py\u001b[0m in \u001b[0;36m<module>\u001b[0;34m\u001b[0m\n\u001b[1;32m     15\u001b[0m \u001b[0max2\u001b[0m\u001b[0;34m.\u001b[0m\u001b[0mset_ylabel\u001b[0m\u001b[0;34m(\u001b[0m\u001b[0;34m'count'\u001b[0m\u001b[0;34m)\u001b[0m\u001b[0;34m\u001b[0m\u001b[0;34m\u001b[0m\u001b[0m\n\u001b[1;32m     16\u001b[0m \u001b[0;34m\u001b[0m\u001b[0m\n\u001b[0;32m---> 17\u001b[0;31m \u001b[0mfig\u001b[0m\u001b[0;34m.\u001b[0m\u001b[0msubtitle\u001b[0m\u001b[0;34m(\u001b[0m\u001b[0;34m'd18o Test Data'\u001b[0m\u001b[0;34m)\u001b[0m\u001b[0;34m\u001b[0m\u001b[0;34m\u001b[0m\u001b[0m\n\u001b[0m\u001b[1;32m     18\u001b[0m \u001b[0;34m\u001b[0m\u001b[0m\n",
      "\u001b[0;31mAttributeError\u001b[0m: 'Figure' object has no attribute 'subtitle'"
     ]
    },
    {
     "data": {
      "image/png": "[encoded data removed]",
      "text/plain": [
       "<Figure size 1000x500 with 2 Axes>"
      ]
     },
     "metadata": {},
     "output_type": "display_data"
    }
   ],
   "source": [
    "fig,(ax1, ax2) = plt.subplots(1,2, figsize = (10,5))\n",
    "fig.subplots_adjust(wspace = .5)\n",
    "\n",
    "#ax 1\n",
    "ax1.plot(df.days, df.d18o)\n",
    "ax1.scatter(above_neg14.days, above_neg14.d18o, color = 'purple', label = 'Selected Data')\n",
    "ax1.set_title('d18 over time')\n",
    "ax1.set_xlabel('Days')\n",
    "ax1.set_ylabel('d18o')\n",
    "\n",
    "#ax 2\n",
    "ax2.hist(df.d18o, bins = 5)\n",
    "ax2.set_title('d18o Histogram')\n",
    "ax2.set_xlabel('value')\n",
    "ax2.set_ylabel('count')\n",
    "\n",
    "fig.subtitle('d18o Test Data')\n",
    "    "
   ]
  },
  {
   "cell_type": "code",
   "execution_count": 33,
   "metadata": {},
   "outputs": [
    {
     "name": "stdout",
     "output_type": "stream",
     "text": [
      "Help on function subplots in module matplotlib.pyplot:\n",
      "\n",
      "subplots(nrows=1, ncols=1, *, sharex=False, sharey=False, squeeze=True, subplot_kw=None, gridspec_kw=None, **fig_kw)\n",
      "    Create a figure and a set of subplots.\n",
      "    \n",
      "    This utility wrapper makes it convenient to create common layouts of\n",
      "    subplots, including the enclosing figure object, in a single call.\n",
      "    \n",
      "    Parameters\n",
      "    ----------\n",
      "    nrows, ncols : int, default: 1\n",
      "        Number of rows/columns of the subplot grid.\n",
      "    \n",
      "    sharex, sharey : bool or {'none', 'all', 'row', 'col'}, default: False\n",
      "        Controls sharing of properties among x (*sharex*) or y (*sharey*)\n",
      "        axes:\n",
      "    \n",
      "        - True or 'all': x- or y-axis will be shared among all subplots.\n",
      "        - False or 'none': each subplot x- or y-axis will be independent.\n",
      "        - 'row': each subplot row will share an x- or y-axis.\n",
      "        - 'col': each subplot column will share an x- or y-axis.\n",
      "    \n",
      "        When subplots have a shared x-axis along a column, only the x tick\n",
      "        labels of the bottom subplot are created. Similarly, when subplots\n",
      "        have a shared y-axis along a row, only the y tick labels of the first\n",
      "        column subplot are created. To later turn other subplots' ticklabels\n",
      "        on, use `~matplotlib.axes.Axes.tick_params`.\n",
      "    \n",
      "    squeeze : bool, default: True\n",
      "        - If True, extra dimensions are squeezed out from the returned\n",
      "          array of `~matplotlib.axes.Axes`:\n",
      "    \n",
      "          - if only one subplot is constructed (nrows=ncols=1), the\n",
      "            resulting single Axes object is returned as a scalar.\n",
      "          - for Nx1 or 1xM subplots, the returned object is a 1D numpy\n",
      "            object array of Axes objects.\n",
      "          - for NxM, subplots with N>1 and M>1 are returned as a 2D array.\n",
      "    \n",
      "        - If False, no squeezing at all is done: the returned Axes object is\n",
      "          always a 2D array containing Axes instances, even if it ends up\n",
      "          being 1x1.\n",
      "    \n",
      "    subplot_kw : dict, optional\n",
      "        Dict with keywords passed to the\n",
      "        `~matplotlib.figure.Figure.add_subplot` call used to create each\n",
      "        subplot.\n",
      "    \n",
      "    gridspec_kw : dict, optional\n",
      "        Dict with keywords passed to the `~matplotlib.gridspec.GridSpec`\n",
      "        constructor used to create the grid the subplots are placed on.\n",
      "    \n",
      "    **fig_kw\n",
      "        All additional keyword arguments are passed to the\n",
      "        `.pyplot.figure` call.\n",
      "    \n",
      "    Returns\n",
      "    -------\n",
      "    fig : `~.figure.Figure`\n",
      "    \n",
      "    ax : `.axes.Axes` or array of Axes\n",
      "        *ax* can be either a single `~matplotlib.axes.Axes` object or an\n",
      "        array of Axes objects if more than one subplot was created.  The\n",
      "        dimensions of the resulting array can be controlled with the squeeze\n",
      "        keyword, see above.\n",
      "    \n",
      "        Typical idioms for handling the return value are::\n",
      "    \n",
      "            # using the variable ax for single a Axes\n",
      "            fig, ax = plt.subplots()\n",
      "    \n",
      "            # using the variable axs for multiple Axes\n",
      "            fig, axs = plt.subplots(2, 2)\n",
      "    \n",
      "            # using tuple unpacking for multiple Axes\n",
      "            fig, (ax1, ax2) = plt.subplot(1, 2)\n",
      "            fig, ((ax1, ax2), (ax3, ax4)) = plt.subplot(2, 2)\n",
      "    \n",
      "        The names ``ax`` and pluralized ``axs`` are preferred over ``axes``\n",
      "        because for the latter it's not clear if it refers to a single\n",
      "        `~.axes.Axes` instance or a collection of these.\n",
      "    \n",
      "    See Also\n",
      "    --------\n",
      "    .pyplot.figure\n",
      "    .pyplot.subplot\n",
      "    .pyplot.axes\n",
      "    .Figure.subplots\n",
      "    .Figure.add_subplot\n",
      "    \n",
      "    Examples\n",
      "    --------\n",
      "    ::\n",
      "    \n",
      "        # First create some toy data:\n",
      "        x = np.linspace(0, 2*np.pi, 400)\n",
      "        y = np.sin(x**2)\n",
      "    \n",
      "        # Create just a figure and only one subplot\n",
      "        fig, ax = plt.subplots()\n",
      "        ax.plot(x, y)\n",
      "        ax.set_title('Simple plot')\n",
      "    \n",
      "        # Create two subplots and unpack the output array immediately\n",
      "        f, (ax1, ax2) = plt.subplots(1, 2, sharey=True)\n",
      "        ax1.plot(x, y)\n",
      "        ax1.set_title('Sharing Y axis')\n",
      "        ax2.scatter(x, y)\n",
      "    \n",
      "        # Create four polar axes and access them through the returned array\n",
      "        fig, axs = plt.subplots(2, 2, subplot_kw=dict(polar=True))\n",
      "        axs[0, 0].plot(x, y)\n",
      "        axs[1, 1].scatter(x, y)\n",
      "    \n",
      "        # Share a X axis with each column of subplots\n",
      "        plt.subplots(2, 2, sharex='col')\n",
      "    \n",
      "        # Share a Y axis with each row of subplots\n",
      "        plt.subplots(2, 2, sharey='row')\n",
      "    \n",
      "        # Share both X and Y axes with all subplots\n",
      "        plt.subplots(2, 2, sharex='all', sharey='all')\n",
      "    \n",
      "        # Note that this is the same as\n",
      "        plt.subplots(2, 2, sharex=True, sharey=True)\n",
      "    \n",
      "        # Create figure number 10 with a single subplot\n",
      "        # and clears it if it already exists.\n",
      "        fig, ax = plt.subplots(num=10, clear=True)\n",
      "\n"
     ]
    }
   ],
   "source": [
    "help(plt.subplots)"
   ]
  },
  {
   "cell_type": "code",
   "execution_count": null,
   "metadata": {},
   "outputs": [],
   "source": []
  }
 ],
 "metadata": {
  "kernelspec": {
   "display_name": "Python 3 (ipykernel)",
   "language": "python",
   "name": "python3"
  },
  "language_info": {
   "codemirror_mode": {
    "name": "ipython",
    "version": 3
   },
   "file_extension": ".py",
   "mimetype": "text/x-python",
   "name": "python",
   "nbconvert_exporter": "python",
   "pygments_lexer": "ipython3",
   "version": "3.8.15"
  }
 },
 "nbformat": 4,
 "nbformat_minor": 4
}
